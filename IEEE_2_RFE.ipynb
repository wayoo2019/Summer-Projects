{
  "nbformat": 4,
  "nbformat_minor": 0,
  "metadata": {
    "colab": {
      "name": "IEEE_2_RFE.ipynb",
      "provenance": [],
      "mount_file_id": "1bRBRJ6uInoUFT-whAcppJAUJ1upnH1IT",
      "authorship_tag": "ABX9TyMtvYW5EUCaUr8XQsTMkTjn",
      "include_colab_link": true
    },
    "kernelspec": {
      "display_name": "Python 3",
      "name": "python3"
    },
    "language_info": {
      "name": "python"
    }
  },
  "cells": [
    {
      "cell_type": "markdown",
      "metadata": {
        "id": "view-in-github",
        "colab_type": "text"
      },
      "source": [
        "<a href=\"https://colab.research.google.com/github/wayoo2019/Summer-Projects/blob/master/IEEE_2_RFE.ipynb\" target=\"_parent\"><img src=\"https://colab.research.google.com/assets/colab-badge.svg\" alt=\"Open In Colab\"/></a>"
      ]
    },
    {
      "cell_type": "markdown",
      "metadata": {
        "id": "nnClsA9dfTnW"
      },
      "source": [
        "## 2. RFE Feature Slection\n",
        "*   LGBM Feature Selection\n",
        "*   XGB Feature Selection\n",
        "\n",
        "reference: https://www.kaggle.com/nroman/recursive-feature-elimination"
      ]
    },
    {
      "cell_type": "code",
      "metadata": {
        "id": "ssFzN9-zfHp2"
      },
      "source": [
        "import pandas as pd\n",
        "import numpy as np\n",
        "from datetime import datetime\n",
        "import matplotlib.pyplot as plt\n",
        "from sklearn.model_selection import KFold\n",
        "from sklearn.feature_selection import RFECV\n",
        "import lightgbm as lgb\n",
        "from tqdm import tqdm_notebook\n",
        "from sklearn.metrics import roc_auc_score\n",
        "from sklearn.preprocessing import LabelEncoder\n",
        "import multiprocessing"
      ],
      "execution_count": null,
      "outputs": []
    },
    {
      "cell_type": "code",
      "metadata": {
        "colab": {
          "base_uri": "https://localhost:8080/"
        },
        "id": "JQKV5DH0gz9l",
        "outputId": "96aeba9a-0dc1-4589-f4ac-6ee40d284511"
      },
      "source": [
        "%%time\n",
        "train = pd.read_parquet(\"drive/My Drive/ieee-fraud-detection/train.parquet.gzip\")\n",
        "test = pd.read_parquet(\"drive/My Drive/ieee-fraud-detection/test.parquet.gzip\")"
      ],
      "execution_count": null,
      "outputs": [
        {
          "output_type": "stream",
          "text": [
            "CPU times: user 13.3 s, sys: 4.09 s, total: 17.4 s\n",
            "Wall time: 13 s\n"
          ],
          "name": "stdout"
        }
      ]
    },
    {
      "cell_type": "markdown",
      "metadata": {
        "id": "5mJlNfy5fVw1"
      },
      "source": [
        "#### 2.1 Remove features which have less information\n",
        "\n",
        "\n",
        "*   Features with only 1 unique value\n",
        "*   Features with more than 90% missing values\n",
        "*   Features with the top value appears more than 90% of the time\n",
        "\n",
        "\n",
        "\n",
        "\n",
        "\n",
        "\n"
      ]
    },
    {
      "cell_type": "code",
      "metadata": {
        "colab": {
          "base_uri": "https://localhost:8080/"
        },
        "id": "JbGkL69nhEWX",
        "outputId": "79b6c9b2-76aa-48f6-dbab-12a6fcd943a3"
      },
      "source": [
        "# Features with only 1 unique value\n",
        "one_value_cols = [col for col in train.columns if train[col].nunique() <= 1]\n",
        "one_value_cols_test = [col for col in test.columns if test[col].nunique() <= 1]\n",
        "\n",
        "# Features with more than 90% missing values\n",
        "many_null_cols = [col for col in train.columns if train[col].isnull().sum() / train.shape[0] > 0.9]\n",
        "many_null_cols_test = [col for col in test.columns if test[col].isnull().sum() / test.shape[0] > 0.9]\n",
        "\n",
        "# Features with the top value appears more than 90% of the time\n",
        "big_top_value_cols = [col for col in train.columns if train[col].value_counts(dropna=False, normalize=True).values[0] > 0.9]\n",
        "big_top_value_cols_test = [col for col in test.columns if test[col].value_counts(dropna=False, normalize=True).values[0] > 0.9]\n",
        "\n",
        "cols_to_drop = list(set(many_null_cols + many_null_cols_test + big_top_value_cols + big_top_value_cols_test + one_value_cols + one_value_cols_test))\n",
        "cols_to_drop.remove(\"isFraud\")\n",
        "\n",
        "print('{} features are going to be dropped for being useless'.format(len(cols_to_drop)))\n",
        "print(cols_to_drop)\n"
      ],
      "execution_count": null,
      "outputs": [
        {
          "output_type": "stream",
          "text": [
            "82 features are going to be dropped for being useless\n",
            "['id_25', 'V24', 'V25', 'V118', 'V116', 'V119', 'V26', 'V137', 'V103', 'V114', 'V135', 'V109', 'V117', 'V27', 'V321', 'V309', 'dist2', 'V284', 'V121', 'V295', 'V297', 'V305', 'V65', 'V111', 'V124', 'V107', 'V67', 'id_22', 'V133', 'V115', 'V14', 'V86', 'id_21', 'id_27', 'id_23', 'V301', 'V101', 'V110', 'V104', 'V296', 'V318', 'V108', 'V89', 'V122', 'V106', 'id_18', 'V320', 'V113', 'V134', 'V55', 'V281', 'V77', 'V98', 'V28', 'id_08', 'id_24', 'V68', 'V286', 'C3', 'V105', 'V136', 'V316', 'V298', 'V66', 'D7', 'V300', 'V23', 'V132', 'V125', 'V88', 'V102', 'V311', 'V123', 'V319', 'V120', 'V290', 'V293', 'V129', 'V112', 'id_07', 'id_26', 'V299']\n"
          ],
          "name": "stdout"
        }
      ]
    },
    {
      "cell_type": "code",
      "metadata": {
        "id": "XUeM8j07hSVU"
      },
      "source": [
        "# remove columns \n",
        "train = train.drop(cols_to_drop, axis=1)\n",
        "test = test.drop(cols_to_drop, axis=1)"
      ],
      "execution_count": null,
      "outputs": []
    },
    {
      "cell_type": "markdown",
      "metadata": {
        "id": "TaRfrtHPlUKi"
      },
      "source": [
        "#### 2.2 Label Encoding, missing values"
      ]
    },
    {
      "cell_type": "code",
      "metadata": {
        "colab": {
          "base_uri": "https://localhost:8080/"
        },
        "id": "vFtWsqZJoSWu",
        "outputId": "dfa65957-87d6-4a94-b9f4-6e851e94f647"
      },
      "source": [
        "cat_col = train.columns[train.dtypes == \"object\"].tolist()\n",
        "print(cat_col)"
      ],
      "execution_count": null,
      "outputs": [
        {
          "output_type": "stream",
          "text": [
            "['ProductCD', 'card4', 'card6', 'P_emaildomain', 'R_emaildomain', 'M1', 'M2', 'M3', 'M4', 'M5', 'M6', 'M7', 'M8', 'M9', 'id_12', 'id_15', 'id_16', 'id_28', 'id_29', 'id_30', 'id_31', 'id_33', 'id_34', 'id_35', 'id_36', 'id_37', 'id_38', 'DeviceType', 'DeviceInfo']\n"
          ],
          "name": "stdout"
        }
      ]
    },
    {
      "cell_type": "code",
      "metadata": {
        "id": "JaEdnTV0pl4n"
      },
      "source": [
        "le = LabelEncoder()\n",
        "for col in cat_col:\n",
        "  le.fit(list(train[col].astype(str).values) + list(test[col].astype(str).values))\n",
        "  train[col] = le.transform(list(train[col].astype(str).values))\n",
        "  "
      ],
      "execution_count": null,
      "outputs": []
    },
    {
      "cell_type": "code",
      "metadata": {
        "colab": {
          "base_uri": "https://localhost:8080/",
          "height": 255
        },
        "id": "Z8e5jNEMqZ3k",
        "outputId": "c017a283-b4bd-4525-ea8b-b0605513cd0d"
      },
      "source": [
        "train.head()"
      ],
      "execution_count": null,
      "outputs": [
        {
          "output_type": "execute_result",
          "data": {
            "text/html": [
              "<div>\n",
              "<style scoped>\n",
              "    .dataframe tbody tr th:only-of-type {\n",
              "        vertical-align: middle;\n",
              "    }\n",
              "\n",
              "    .dataframe tbody tr th {\n",
              "        vertical-align: top;\n",
              "    }\n",
              "\n",
              "    .dataframe thead th {\n",
              "        text-align: right;\n",
              "    }\n",
              "</style>\n",
              "<table border=\"1\" class=\"dataframe\">\n",
              "  <thead>\n",
              "    <tr style=\"text-align: right;\">\n",
              "      <th></th>\n",
              "      <th>TransactionID</th>\n",
              "      <th>isFraud</th>\n",
              "      <th>TransactionDT</th>\n",
              "      <th>TransactionAmt</th>\n",
              "      <th>ProductCD</th>\n",
              "      <th>card1</th>\n",
              "      <th>card2</th>\n",
              "      <th>card3</th>\n",
              "      <th>card4</th>\n",
              "      <th>card5</th>\n",
              "      <th>card6</th>\n",
              "      <th>addr1</th>\n",
              "      <th>addr2</th>\n",
              "      <th>dist1</th>\n",
              "      <th>P_emaildomain</th>\n",
              "      <th>R_emaildomain</th>\n",
              "      <th>C1</th>\n",
              "      <th>C2</th>\n",
              "      <th>C4</th>\n",
              "      <th>C5</th>\n",
              "      <th>C6</th>\n",
              "      <th>C7</th>\n",
              "      <th>C8</th>\n",
              "      <th>C9</th>\n",
              "      <th>C10</th>\n",
              "      <th>C11</th>\n",
              "      <th>C12</th>\n",
              "      <th>C13</th>\n",
              "      <th>C14</th>\n",
              "      <th>D1</th>\n",
              "      <th>D2</th>\n",
              "      <th>D3</th>\n",
              "      <th>D4</th>\n",
              "      <th>D5</th>\n",
              "      <th>D6</th>\n",
              "      <th>D8</th>\n",
              "      <th>D9</th>\n",
              "      <th>D10</th>\n",
              "      <th>D11</th>\n",
              "      <th>D12</th>\n",
              "      <th>...</th>\n",
              "      <th>V330</th>\n",
              "      <th>V331</th>\n",
              "      <th>V332</th>\n",
              "      <th>V333</th>\n",
              "      <th>V334</th>\n",
              "      <th>V335</th>\n",
              "      <th>V336</th>\n",
              "      <th>V337</th>\n",
              "      <th>V338</th>\n",
              "      <th>V339</th>\n",
              "      <th>id_01</th>\n",
              "      <th>id_02</th>\n",
              "      <th>id_03</th>\n",
              "      <th>id_04</th>\n",
              "      <th>id_05</th>\n",
              "      <th>id_06</th>\n",
              "      <th>id_09</th>\n",
              "      <th>id_10</th>\n",
              "      <th>id_11</th>\n",
              "      <th>id_12</th>\n",
              "      <th>id_13</th>\n",
              "      <th>id_14</th>\n",
              "      <th>id_15</th>\n",
              "      <th>id_16</th>\n",
              "      <th>id_17</th>\n",
              "      <th>id_19</th>\n",
              "      <th>id_20</th>\n",
              "      <th>id_28</th>\n",
              "      <th>id_29</th>\n",
              "      <th>id_30</th>\n",
              "      <th>id_31</th>\n",
              "      <th>id_32</th>\n",
              "      <th>id_33</th>\n",
              "      <th>id_34</th>\n",
              "      <th>id_35</th>\n",
              "      <th>id_36</th>\n",
              "      <th>id_37</th>\n",
              "      <th>id_38</th>\n",
              "      <th>DeviceType</th>\n",
              "      <th>DeviceInfo</th>\n",
              "    </tr>\n",
              "  </thead>\n",
              "  <tbody>\n",
              "    <tr>\n",
              "      <th>0</th>\n",
              "      <td>2987000</td>\n",
              "      <td>0</td>\n",
              "      <td>86400</td>\n",
              "      <td>68.5</td>\n",
              "      <td>4</td>\n",
              "      <td>13926</td>\n",
              "      <td>NaN</td>\n",
              "      <td>150.0</td>\n",
              "      <td>2</td>\n",
              "      <td>142.0</td>\n",
              "      <td>2</td>\n",
              "      <td>315.0</td>\n",
              "      <td>87.0</td>\n",
              "      <td>19.0</td>\n",
              "      <td>0</td>\n",
              "      <td>0</td>\n",
              "      <td>1.0</td>\n",
              "      <td>1.0</td>\n",
              "      <td>0.0</td>\n",
              "      <td>0.0</td>\n",
              "      <td>1.0</td>\n",
              "      <td>0.0</td>\n",
              "      <td>0.0</td>\n",
              "      <td>1.0</td>\n",
              "      <td>0.0</td>\n",
              "      <td>2.0</td>\n",
              "      <td>0.0</td>\n",
              "      <td>1.0</td>\n",
              "      <td>1.0</td>\n",
              "      <td>14.0</td>\n",
              "      <td>NaN</td>\n",
              "      <td>13.0</td>\n",
              "      <td>NaN</td>\n",
              "      <td>NaN</td>\n",
              "      <td>NaN</td>\n",
              "      <td>NaN</td>\n",
              "      <td>NaN</td>\n",
              "      <td>13.0</td>\n",
              "      <td>13.0</td>\n",
              "      <td>NaN</td>\n",
              "      <td>...</td>\n",
              "      <td>NaN</td>\n",
              "      <td>NaN</td>\n",
              "      <td>NaN</td>\n",
              "      <td>NaN</td>\n",
              "      <td>NaN</td>\n",
              "      <td>NaN</td>\n",
              "      <td>NaN</td>\n",
              "      <td>NaN</td>\n",
              "      <td>NaN</td>\n",
              "      <td>NaN</td>\n",
              "      <td>NaN</td>\n",
              "      <td>NaN</td>\n",
              "      <td>NaN</td>\n",
              "      <td>NaN</td>\n",
              "      <td>NaN</td>\n",
              "      <td>NaN</td>\n",
              "      <td>NaN</td>\n",
              "      <td>NaN</td>\n",
              "      <td>NaN</td>\n",
              "      <td>1</td>\n",
              "      <td>NaN</td>\n",
              "      <td>NaN</td>\n",
              "      <td>2</td>\n",
              "      <td>1</td>\n",
              "      <td>NaN</td>\n",
              "      <td>NaN</td>\n",
              "      <td>NaN</td>\n",
              "      <td>2</td>\n",
              "      <td>1</td>\n",
              "      <td>48</td>\n",
              "      <td>11</td>\n",
              "      <td>NaN</td>\n",
              "      <td>461</td>\n",
              "      <td>0</td>\n",
              "      <td>1</td>\n",
              "      <td>1</td>\n",
              "      <td>1</td>\n",
              "      <td>1</td>\n",
              "      <td>0</td>\n",
              "      <td>1341</td>\n",
              "    </tr>\n",
              "    <tr>\n",
              "      <th>1</th>\n",
              "      <td>2987001</td>\n",
              "      <td>0</td>\n",
              "      <td>86401</td>\n",
              "      <td>29.0</td>\n",
              "      <td>4</td>\n",
              "      <td>2755</td>\n",
              "      <td>404.0</td>\n",
              "      <td>150.0</td>\n",
              "      <td>3</td>\n",
              "      <td>102.0</td>\n",
              "      <td>2</td>\n",
              "      <td>325.0</td>\n",
              "      <td>87.0</td>\n",
              "      <td>NaN</td>\n",
              "      <td>17</td>\n",
              "      <td>0</td>\n",
              "      <td>1.0</td>\n",
              "      <td>1.0</td>\n",
              "      <td>0.0</td>\n",
              "      <td>0.0</td>\n",
              "      <td>1.0</td>\n",
              "      <td>0.0</td>\n",
              "      <td>0.0</td>\n",
              "      <td>0.0</td>\n",
              "      <td>0.0</td>\n",
              "      <td>1.0</td>\n",
              "      <td>0.0</td>\n",
              "      <td>1.0</td>\n",
              "      <td>1.0</td>\n",
              "      <td>0.0</td>\n",
              "      <td>NaN</td>\n",
              "      <td>NaN</td>\n",
              "      <td>0.0</td>\n",
              "      <td>NaN</td>\n",
              "      <td>NaN</td>\n",
              "      <td>NaN</td>\n",
              "      <td>NaN</td>\n",
              "      <td>0.0</td>\n",
              "      <td>NaN</td>\n",
              "      <td>NaN</td>\n",
              "      <td>...</td>\n",
              "      <td>NaN</td>\n",
              "      <td>NaN</td>\n",
              "      <td>NaN</td>\n",
              "      <td>NaN</td>\n",
              "      <td>NaN</td>\n",
              "      <td>NaN</td>\n",
              "      <td>NaN</td>\n",
              "      <td>NaN</td>\n",
              "      <td>NaN</td>\n",
              "      <td>NaN</td>\n",
              "      <td>NaN</td>\n",
              "      <td>NaN</td>\n",
              "      <td>NaN</td>\n",
              "      <td>NaN</td>\n",
              "      <td>NaN</td>\n",
              "      <td>NaN</td>\n",
              "      <td>NaN</td>\n",
              "      <td>NaN</td>\n",
              "      <td>NaN</td>\n",
              "      <td>1</td>\n",
              "      <td>NaN</td>\n",
              "      <td>NaN</td>\n",
              "      <td>2</td>\n",
              "      <td>1</td>\n",
              "      <td>NaN</td>\n",
              "      <td>NaN</td>\n",
              "      <td>NaN</td>\n",
              "      <td>2</td>\n",
              "      <td>1</td>\n",
              "      <td>48</td>\n",
              "      <td>11</td>\n",
              "      <td>NaN</td>\n",
              "      <td>461</td>\n",
              "      <td>0</td>\n",
              "      <td>1</td>\n",
              "      <td>1</td>\n",
              "      <td>1</td>\n",
              "      <td>1</td>\n",
              "      <td>0</td>\n",
              "      <td>1341</td>\n",
              "    </tr>\n",
              "    <tr>\n",
              "      <th>2</th>\n",
              "      <td>2987002</td>\n",
              "      <td>0</td>\n",
              "      <td>86469</td>\n",
              "      <td>59.0</td>\n",
              "      <td>4</td>\n",
              "      <td>4663</td>\n",
              "      <td>490.0</td>\n",
              "      <td>150.0</td>\n",
              "      <td>4</td>\n",
              "      <td>166.0</td>\n",
              "      <td>3</td>\n",
              "      <td>330.0</td>\n",
              "      <td>87.0</td>\n",
              "      <td>287.0</td>\n",
              "      <td>36</td>\n",
              "      <td>0</td>\n",
              "      <td>1.0</td>\n",
              "      <td>1.0</td>\n",
              "      <td>0.0</td>\n",
              "      <td>0.0</td>\n",
              "      <td>1.0</td>\n",
              "      <td>0.0</td>\n",
              "      <td>0.0</td>\n",
              "      <td>1.0</td>\n",
              "      <td>0.0</td>\n",
              "      <td>1.0</td>\n",
              "      <td>0.0</td>\n",
              "      <td>1.0</td>\n",
              "      <td>1.0</td>\n",
              "      <td>0.0</td>\n",
              "      <td>NaN</td>\n",
              "      <td>NaN</td>\n",
              "      <td>0.0</td>\n",
              "      <td>NaN</td>\n",
              "      <td>NaN</td>\n",
              "      <td>NaN</td>\n",
              "      <td>NaN</td>\n",
              "      <td>0.0</td>\n",
              "      <td>315.0</td>\n",
              "      <td>NaN</td>\n",
              "      <td>...</td>\n",
              "      <td>NaN</td>\n",
              "      <td>NaN</td>\n",
              "      <td>NaN</td>\n",
              "      <td>NaN</td>\n",
              "      <td>NaN</td>\n",
              "      <td>NaN</td>\n",
              "      <td>NaN</td>\n",
              "      <td>NaN</td>\n",
              "      <td>NaN</td>\n",
              "      <td>NaN</td>\n",
              "      <td>NaN</td>\n",
              "      <td>NaN</td>\n",
              "      <td>NaN</td>\n",
              "      <td>NaN</td>\n",
              "      <td>NaN</td>\n",
              "      <td>NaN</td>\n",
              "      <td>NaN</td>\n",
              "      <td>NaN</td>\n",
              "      <td>NaN</td>\n",
              "      <td>1</td>\n",
              "      <td>NaN</td>\n",
              "      <td>NaN</td>\n",
              "      <td>2</td>\n",
              "      <td>1</td>\n",
              "      <td>NaN</td>\n",
              "      <td>NaN</td>\n",
              "      <td>NaN</td>\n",
              "      <td>2</td>\n",
              "      <td>1</td>\n",
              "      <td>48</td>\n",
              "      <td>11</td>\n",
              "      <td>NaN</td>\n",
              "      <td>461</td>\n",
              "      <td>0</td>\n",
              "      <td>1</td>\n",
              "      <td>1</td>\n",
              "      <td>1</td>\n",
              "      <td>1</td>\n",
              "      <td>0</td>\n",
              "      <td>1341</td>\n",
              "    </tr>\n",
              "    <tr>\n",
              "      <th>3</th>\n",
              "      <td>2987003</td>\n",
              "      <td>0</td>\n",
              "      <td>86499</td>\n",
              "      <td>50.0</td>\n",
              "      <td>4</td>\n",
              "      <td>18132</td>\n",
              "      <td>567.0</td>\n",
              "      <td>150.0</td>\n",
              "      <td>3</td>\n",
              "      <td>117.0</td>\n",
              "      <td>3</td>\n",
              "      <td>476.0</td>\n",
              "      <td>87.0</td>\n",
              "      <td>NaN</td>\n",
              "      <td>55</td>\n",
              "      <td>0</td>\n",
              "      <td>2.0</td>\n",
              "      <td>5.0</td>\n",
              "      <td>0.0</td>\n",
              "      <td>0.0</td>\n",
              "      <td>4.0</td>\n",
              "      <td>0.0</td>\n",
              "      <td>0.0</td>\n",
              "      <td>1.0</td>\n",
              "      <td>0.0</td>\n",
              "      <td>1.0</td>\n",
              "      <td>0.0</td>\n",
              "      <td>25.0</td>\n",
              "      <td>1.0</td>\n",
              "      <td>112.0</td>\n",
              "      <td>112.0</td>\n",
              "      <td>0.0</td>\n",
              "      <td>94.0</td>\n",
              "      <td>0.0</td>\n",
              "      <td>NaN</td>\n",
              "      <td>NaN</td>\n",
              "      <td>NaN</td>\n",
              "      <td>84.0</td>\n",
              "      <td>NaN</td>\n",
              "      <td>NaN</td>\n",
              "      <td>...</td>\n",
              "      <td>NaN</td>\n",
              "      <td>NaN</td>\n",
              "      <td>NaN</td>\n",
              "      <td>NaN</td>\n",
              "      <td>NaN</td>\n",
              "      <td>NaN</td>\n",
              "      <td>NaN</td>\n",
              "      <td>NaN</td>\n",
              "      <td>NaN</td>\n",
              "      <td>NaN</td>\n",
              "      <td>NaN</td>\n",
              "      <td>NaN</td>\n",
              "      <td>NaN</td>\n",
              "      <td>NaN</td>\n",
              "      <td>NaN</td>\n",
              "      <td>NaN</td>\n",
              "      <td>NaN</td>\n",
              "      <td>NaN</td>\n",
              "      <td>NaN</td>\n",
              "      <td>1</td>\n",
              "      <td>NaN</td>\n",
              "      <td>NaN</td>\n",
              "      <td>2</td>\n",
              "      <td>1</td>\n",
              "      <td>NaN</td>\n",
              "      <td>NaN</td>\n",
              "      <td>NaN</td>\n",
              "      <td>2</td>\n",
              "      <td>1</td>\n",
              "      <td>48</td>\n",
              "      <td>11</td>\n",
              "      <td>NaN</td>\n",
              "      <td>461</td>\n",
              "      <td>0</td>\n",
              "      <td>1</td>\n",
              "      <td>1</td>\n",
              "      <td>1</td>\n",
              "      <td>1</td>\n",
              "      <td>0</td>\n",
              "      <td>1341</td>\n",
              "    </tr>\n",
              "    <tr>\n",
              "      <th>4</th>\n",
              "      <td>2987004</td>\n",
              "      <td>0</td>\n",
              "      <td>86506</td>\n",
              "      <td>50.0</td>\n",
              "      <td>1</td>\n",
              "      <td>4497</td>\n",
              "      <td>514.0</td>\n",
              "      <td>150.0</td>\n",
              "      <td>3</td>\n",
              "      <td>102.0</td>\n",
              "      <td>2</td>\n",
              "      <td>420.0</td>\n",
              "      <td>87.0</td>\n",
              "      <td>NaN</td>\n",
              "      <td>17</td>\n",
              "      <td>0</td>\n",
              "      <td>1.0</td>\n",
              "      <td>1.0</td>\n",
              "      <td>0.0</td>\n",
              "      <td>0.0</td>\n",
              "      <td>1.0</td>\n",
              "      <td>0.0</td>\n",
              "      <td>1.0</td>\n",
              "      <td>0.0</td>\n",
              "      <td>1.0</td>\n",
              "      <td>1.0</td>\n",
              "      <td>0.0</td>\n",
              "      <td>1.0</td>\n",
              "      <td>1.0</td>\n",
              "      <td>0.0</td>\n",
              "      <td>NaN</td>\n",
              "      <td>NaN</td>\n",
              "      <td>NaN</td>\n",
              "      <td>NaN</td>\n",
              "      <td>NaN</td>\n",
              "      <td>NaN</td>\n",
              "      <td>NaN</td>\n",
              "      <td>NaN</td>\n",
              "      <td>NaN</td>\n",
              "      <td>NaN</td>\n",
              "      <td>...</td>\n",
              "      <td>0.0</td>\n",
              "      <td>0.0</td>\n",
              "      <td>0.0</td>\n",
              "      <td>0.0</td>\n",
              "      <td>0.0</td>\n",
              "      <td>0.0</td>\n",
              "      <td>0.0</td>\n",
              "      <td>0.0</td>\n",
              "      <td>0.0</td>\n",
              "      <td>0.0</td>\n",
              "      <td>0.0</td>\n",
              "      <td>70787.0</td>\n",
              "      <td>NaN</td>\n",
              "      <td>NaN</td>\n",
              "      <td>NaN</td>\n",
              "      <td>NaN</td>\n",
              "      <td>NaN</td>\n",
              "      <td>NaN</td>\n",
              "      <td>100.0</td>\n",
              "      <td>2</td>\n",
              "      <td>NaN</td>\n",
              "      <td>-480.0</td>\n",
              "      <td>1</td>\n",
              "      <td>2</td>\n",
              "      <td>166.0</td>\n",
              "      <td>542.0</td>\n",
              "      <td>144.0</td>\n",
              "      <td>1</td>\n",
              "      <td>2</td>\n",
              "      <td>7</td>\n",
              "      <td>162</td>\n",
              "      <td>32.0</td>\n",
              "      <td>268</td>\n",
              "      <td>4</td>\n",
              "      <td>2</td>\n",
              "      <td>0</td>\n",
              "      <td>2</td>\n",
              "      <td>2</td>\n",
              "      <td>2</td>\n",
              "      <td>1566</td>\n",
              "    </tr>\n",
              "  </tbody>\n",
              "</table>\n",
              "<p>5 rows × 352 columns</p>\n",
              "</div>"
            ],
            "text/plain": [
              "   TransactionID  isFraud  TransactionDT  ...  id_38  DeviceType  DeviceInfo\n",
              "0        2987000        0          86400  ...      1           0        1341\n",
              "1        2987001        0          86401  ...      1           0        1341\n",
              "2        2987002        0          86469  ...      1           0        1341\n",
              "3        2987003        0          86499  ...      1           0        1341\n",
              "4        2987004        0          86506  ...      2           2        1566\n",
              "\n",
              "[5 rows x 352 columns]"
            ]
          },
          "metadata": {
            "tags": []
          },
          "execution_count": 24
        }
      ]
    },
    {
      "cell_type": "markdown",
      "metadata": {
        "id": "dlx9DX7PWJTc"
      },
      "source": [
        "#### 2.4 RFE feature selection"
      ]
    },
    {
      "cell_type": "code",
      "metadata": {
        "id": "llgUOk7cqjrp"
      },
      "source": [
        "X = train.drop([\"isFraud\"], axis=1)\n",
        "y = train[\"isFraud\"]"
      ],
      "execution_count": null,
      "outputs": []
    },
    {
      "cell_type": "code",
      "metadata": {
        "id": "tg2f302sqnYn"
      },
      "source": [
        "# RFECV does not support NaNs\n",
        "X.fillna(-999, inplace=True)"
      ],
      "execution_count": null,
      "outputs": []
    },
    {
      "cell_type": "markdown",
      "metadata": {
        "id": "LZJTm9ITWh_x"
      },
      "source": [
        "Find the best hyperparameters for lgbm by using bayesian optimization"
      ]
    },
    {
      "cell_type": "code",
      "metadata": {
        "id": "PLsCJR1CWsk4"
      },
      "source": [
        ""
      ],
      "execution_count": null,
      "outputs": []
    },
    {
      "cell_type": "code",
      "metadata": {
        "id": "3tpyLPJgVbjN"
      },
      "source": [
        "params = {'num_leaves': 491,\n",
        "          'min_child_weight': 0.03454472573214212,\n",
        "          'feature_fraction': 0.3797454081646243,\n",
        "          'bagging_fraction': 0.4181193142567742,\n",
        "          'min_data_in_leaf': 106,\n",
        "          'objective': 'binary',\n",
        "          'max_depth': -1,\n",
        "          'learning_rate': 0.006883242363721497,\n",
        "          \"boosting_type\": \"gbdt\",\n",
        "          \"bagging_seed\": 11,\n",
        "          \"metric\": 'auc',\n",
        "          \"verbosity\": -1,\n",
        "          'reg_alpha': 0.3899927210061127,\n",
        "          'reg_lambda': 0.6485237330340494,\n",
        "          'random_state': 47\n",
        "         }"
      ],
      "execution_count": null,
      "outputs": []
    },
    {
      "cell_type": "code",
      "metadata": {
        "colab": {
          "background_save": true,
          "base_uri": "https://localhost:8080/"
        },
        "id": "rr2wOzCjVjPw",
        "outputId": "a2c1fbf8-00ce-4a8a-b2b3-1f65703406f2"
      },
      "source": [
        "clf = lgb.LGBMClassifier(**params)\n",
        "rfe = RFECV(estimator=clf, step=10, cv=KFold(n_splits=5, shuffle=False), scoring='roc_auc', verbose=2)\n",
        "rfe.fit(X, y)"
      ],
      "execution_count": null,
      "outputs": [
        {
          "output_type": "stream",
          "text": [
            "Fitting estimator with 351 features.\n",
            "Fitting estimator with 341 features.\n",
            "Fitting estimator with 331 features.\n",
            "Fitting estimator with 321 features.\n",
            "Fitting estimator with 311 features.\n",
            "Fitting estimator with 301 features.\n",
            "Fitting estimator with 291 features.\n",
            "Fitting estimator with 281 features.\n",
            "Fitting estimator with 271 features.\n",
            "Fitting estimator with 261 features.\n",
            "Fitting estimator with 251 features.\n",
            "Fitting estimator with 241 features.\n",
            "Fitting estimator with 231 features.\n",
            "Fitting estimator with 221 features.\n",
            "Fitting estimator with 211 features.\n",
            "Fitting estimator with 201 features.\n",
            "Fitting estimator with 191 features.\n",
            "Fitting estimator with 181 features.\n",
            "Fitting estimator with 171 features.\n",
            "Fitting estimator with 161 features.\n",
            "Fitting estimator with 151 features.\n",
            "Fitting estimator with 141 features.\n",
            "Fitting estimator with 131 features.\n",
            "Fitting estimator with 121 features.\n",
            "Fitting estimator with 111 features.\n",
            "Fitting estimator with 101 features.\n",
            "Fitting estimator with 91 features.\n",
            "Fitting estimator with 81 features.\n",
            "Fitting estimator with 71 features.\n",
            "Fitting estimator with 61 features.\n",
            "Fitting estimator with 51 features.\n",
            "Fitting estimator with 41 features.\n",
            "Fitting estimator with 31 features.\n",
            "Fitting estimator with 21 features.\n",
            "Fitting estimator with 11 features.\n",
            "Fitting estimator with 351 features.\n",
            "Fitting estimator with 341 features.\n",
            "Fitting estimator with 331 features.\n",
            "Fitting estimator with 321 features.\n",
            "Fitting estimator with 311 features.\n",
            "Fitting estimator with 301 features.\n",
            "Fitting estimator with 291 features.\n",
            "Fitting estimator with 281 features.\n",
            "Fitting estimator with 271 features.\n",
            "Fitting estimator with 261 features.\n",
            "Fitting estimator with 251 features.\n",
            "Fitting estimator with 241 features.\n",
            "Fitting estimator with 231 features.\n",
            "Fitting estimator with 221 features.\n",
            "Fitting estimator with 211 features.\n",
            "Fitting estimator with 201 features.\n",
            "Fitting estimator with 191 features.\n",
            "Fitting estimator with 181 features.\n",
            "Fitting estimator with 171 features.\n",
            "Fitting estimator with 161 features.\n",
            "Fitting estimator with 151 features.\n",
            "Fitting estimator with 141 features.\n",
            "Fitting estimator with 131 features.\n",
            "Fitting estimator with 121 features.\n",
            "Fitting estimator with 111 features.\n",
            "Fitting estimator with 101 features.\n",
            "Fitting estimator with 91 features.\n",
            "Fitting estimator with 81 features.\n",
            "Fitting estimator with 71 features.\n",
            "Fitting estimator with 61 features.\n",
            "Fitting estimator with 51 features.\n",
            "Fitting estimator with 41 features.\n",
            "Fitting estimator with 31 features.\n",
            "Fitting estimator with 21 features.\n",
            "Fitting estimator with 11 features.\n",
            "Fitting estimator with 351 features.\n",
            "Fitting estimator with 341 features.\n",
            "Fitting estimator with 331 features.\n",
            "Fitting estimator with 321 features.\n",
            "Fitting estimator with 311 features.\n",
            "Fitting estimator with 301 features.\n",
            "Fitting estimator with 291 features.\n",
            "Fitting estimator with 281 features.\n",
            "Fitting estimator with 271 features.\n",
            "Fitting estimator with 261 features.\n",
            "Fitting estimator with 251 features.\n",
            "Fitting estimator with 241 features.\n",
            "Fitting estimator with 231 features.\n",
            "Fitting estimator with 221 features.\n",
            "Fitting estimator with 211 features.\n",
            "Fitting estimator with 201 features.\n",
            "Fitting estimator with 191 features.\n",
            "Fitting estimator with 181 features.\n",
            "Fitting estimator with 171 features.\n",
            "Fitting estimator with 161 features.\n",
            "Fitting estimator with 151 features.\n",
            "Fitting estimator with 141 features.\n",
            "Fitting estimator with 131 features.\n",
            "Fitting estimator with 121 features.\n",
            "Fitting estimator with 111 features.\n",
            "Fitting estimator with 101 features.\n",
            "Fitting estimator with 91 features.\n",
            "Fitting estimator with 81 features.\n",
            "Fitting estimator with 71 features.\n",
            "Fitting estimator with 61 features.\n",
            "Fitting estimator with 51 features.\n",
            "Fitting estimator with 41 features.\n",
            "Fitting estimator with 31 features.\n",
            "Fitting estimator with 21 features.\n",
            "Fitting estimator with 11 features.\n",
            "Fitting estimator with 351 features.\n",
            "Fitting estimator with 341 features.\n",
            "Fitting estimator with 331 features.\n",
            "Fitting estimator with 321 features.\n",
            "Fitting estimator with 311 features.\n",
            "Fitting estimator with 301 features.\n",
            "Fitting estimator with 291 features.\n",
            "Fitting estimator with 281 features.\n",
            "Fitting estimator with 271 features.\n",
            "Fitting estimator with 261 features.\n",
            "Fitting estimator with 251 features.\n",
            "Fitting estimator with 241 features.\n",
            "Fitting estimator with 231 features.\n",
            "Fitting estimator with 221 features.\n",
            "Fitting estimator with 211 features.\n",
            "Fitting estimator with 201 features.\n",
            "Fitting estimator with 191 features.\n",
            "Fitting estimator with 181 features.\n",
            "Fitting estimator with 171 features.\n",
            "Fitting estimator with 161 features.\n",
            "Fitting estimator with 151 features.\n",
            "Fitting estimator with 141 features.\n",
            "Fitting estimator with 131 features.\n",
            "Fitting estimator with 121 features.\n",
            "Fitting estimator with 111 features.\n",
            "Fitting estimator with 101 features.\n",
            "Fitting estimator with 91 features.\n",
            "Fitting estimator with 81 features.\n",
            "Fitting estimator with 71 features.\n",
            "Fitting estimator with 61 features.\n",
            "Fitting estimator with 51 features.\n",
            "Fitting estimator with 41 features.\n",
            "Fitting estimator with 31 features.\n",
            "Fitting estimator with 21 features.\n",
            "Fitting estimator with 11 features.\n",
            "Fitting estimator with 351 features.\n",
            "Fitting estimator with 341 features.\n",
            "Fitting estimator with 331 features.\n",
            "Fitting estimator with 321 features.\n",
            "Fitting estimator with 311 features.\n",
            "Fitting estimator with 301 features.\n",
            "Fitting estimator with 291 features.\n",
            "Fitting estimator with 281 features.\n",
            "Fitting estimator with 271 features.\n",
            "Fitting estimator with 261 features.\n",
            "Fitting estimator with 251 features.\n",
            "Fitting estimator with 241 features.\n",
            "Fitting estimator with 231 features.\n",
            "Fitting estimator with 221 features.\n",
            "Fitting estimator with 211 features.\n",
            "Fitting estimator with 201 features.\n",
            "Fitting estimator with 191 features.\n",
            "Fitting estimator with 181 features.\n",
            "Fitting estimator with 171 features.\n",
            "Fitting estimator with 161 features.\n",
            "Fitting estimator with 151 features.\n",
            "Fitting estimator with 141 features.\n",
            "Fitting estimator with 131 features.\n",
            "Fitting estimator with 121 features.\n",
            "Fitting estimator with 111 features.\n",
            "Fitting estimator with 101 features.\n",
            "Fitting estimator with 91 features.\n",
            "Fitting estimator with 81 features.\n",
            "Fitting estimator with 71 features.\n",
            "Fitting estimator with 61 features.\n",
            "Fitting estimator with 51 features.\n",
            "Fitting estimator with 41 features.\n",
            "Fitting estimator with 31 features.\n",
            "Fitting estimator with 21 features.\n",
            "Fitting estimator with 11 features.\n",
            "Fitting estimator with 351 features.\n",
            "Fitting estimator with 341 features.\n",
            "Fitting estimator with 331 features.\n"
          ],
          "name": "stdout"
        },
        {
          "output_type": "execute_result",
          "data": {
            "text/plain": [
              "RFECV(cv=KFold(n_splits=5, random_state=None, shuffle=False),\n",
              "      estimator=LGBMClassifier(bagging_fraction=0.4181193142567742,\n",
              "                               bagging_seed=11, boosting_type='gbdt',\n",
              "                               class_weight=None, colsample_bytree=1.0,\n",
              "                               feature_fraction=0.3797454081646243,\n",
              "                               importance_type='split',\n",
              "                               learning_rate=0.006883242363721497, max_depth=-1,\n",
              "                               metric='auc', min_child_samples=20,\n",
              "                               min_child_we....03454472573214212,\n",
              "                               min_data_in_leaf=106, min_split_gain=0.0,\n",
              "                               n_estimators=100, n_jobs=-1, num_leaves=491,\n",
              "                               objective='binary', random_state=47,\n",
              "                               reg_alpha=0.3899927210061127,\n",
              "                               reg_lambda=0.6485237330340494, silent=True,\n",
              "                               subsample=1.0, subsample_for_bin=200000,\n",
              "                               subsample_freq=0, verbosity=-1),\n",
              "      min_features_to_select=1, n_jobs=None, scoring='roc_auc', step=10,\n",
              "      verbose=2)"
            ]
          },
          "metadata": {
            "tags": []
          },
          "execution_count": 0
        }
      ]
    },
    {
      "cell_type": "code",
      "metadata": {
        "id": "QqwJwbeJau47",
        "colab": {
          "base_uri": "https://localhost:8080/",
          "height": 497
        },
        "outputId": "14c92aa9-b729-4ad2-bfb2-d8f6472d7238"
      },
      "source": [
        "plt.figure(figsize=(14, 8))\n",
        "plt.xlabel(\"Number of features selected\")\n",
        "plt.ylabel(\"Cross validation score\")\n",
        "plt.plot(range(1, len(rfe.grid_scores_) + 1), rfe.grid_scores_)\n",
        "plt.show()"
      ],
      "execution_count": null,
      "outputs": [
        {
          "output_type": "display_data",
          "data": {
            "image/png": "[encoded data removed]",
            "text/plain": [
              "<Figure size 1008x576 with 1 Axes>"
            ]
          },
          "metadata": {
            "tags": [],
            "needs_background": "light"
          }
        }
      ]
    },
    {
      "cell_type": "code",
      "metadata": {
        "id": "eyU4tcpFaw2T",
        "colab": {
          "base_uri": "https://localhost:8080/"
        },
        "outputId": "b652f3dc-9f7a-40fe-b092-4e6ba6b8b88b"
      },
      "source": [
        "fl = X.columns[rfe.ranking_ == 1].tolist()\n",
        "print(fl)"
      ],
      "execution_count": null,
      "outputs": [
        {
          "output_type": "stream",
          "text": [
            "['TransactionID', 'TransactionDT', 'TransactionAmt', 'ProductCD', 'card1', 'card2', 'card3', 'card4', 'card5', 'card6', 'addr1', 'addr2', 'dist1', 'P_emaildomain', 'R_emaildomain', 'C1', 'C2', 'C4', 'C5', 'C6', 'C7', 'C8', 'C9', 'C10', 'C11', 'C12', 'C13', 'C14', 'D1', 'D2', 'D3', 'D4', 'D5', 'D6', 'D8', 'D9', 'D10', 'D11', 'D12', 'D13', 'D14', 'D15', 'M2', 'M3', 'M4', 'M5', 'M6', 'M7', 'M8', 'M9', 'V2', 'V3', 'V4', 'V5', 'V7', 'V9', 'V10', 'V11', 'V12', 'V13', 'V15', 'V16', 'V18', 'V19', 'V20', 'V21', 'V29', 'V30', 'V33', 'V34', 'V35', 'V36', 'V37', 'V38', 'V39', 'V40', 'V43', 'V44', 'V45', 'V46', 'V47', 'V48', 'V49', 'V51', 'V52', 'V53', 'V54', 'V56', 'V57', 'V58', 'V59', 'V60', 'V61', 'V62', 'V63', 'V64', 'V69', 'V70', 'V71', 'V72', 'V73', 'V74', 'V75', 'V76', 'V78', 'V79', 'V80', 'V81', 'V82', 'V83', 'V84', 'V85', 'V87', 'V90', 'V91', 'V93', 'V94', 'V95', 'V96', 'V97', 'V99', 'V100', 'V126', 'V127', 'V128', 'V130', 'V131', 'V139', 'V140', 'V142', 'V143', 'V144', 'V145', 'V146', 'V147', 'V148', 'V149', 'V150', 'V151', 'V152', 'V154', 'V155', 'V156', 'V157', 'V158', 'V159', 'V160', 'V161', 'V162', 'V163', 'V164', 'V165', 'V166', 'V167', 'V168', 'V169', 'V170', 'V171', 'V172', 'V173', 'V174', 'V175', 'V176', 'V177', 'V178', 'V179', 'V180', 'V182', 'V183', 'V184', 'V185', 'V186', 'V187', 'V188', 'V189', 'V190', 'V192', 'V194', 'V197', 'V198', 'V199', 'V200', 'V201', 'V202', 'V203', 'V204', 'V205', 'V206', 'V207', 'V208', 'V209', 'V210', 'V211', 'V212', 'V213', 'V214', 'V215', 'V216', 'V217', 'V218', 'V219', 'V220', 'V221', 'V222', 'V223', 'V224', 'V225', 'V226', 'V227', 'V228', 'V229', 'V230', 'V231', 'V232', 'V233', 'V234', 'V235', 'V236', 'V238', 'V239', 'V242', 'V243', 'V244', 'V245', 'V246', 'V247', 'V248', 'V249', 'V250', 'V251', 'V253', 'V254', 'V255', 'V256', 'V257', 'V258', 'V259', 'V260', 'V261', 'V262', 'V263', 'V264', 'V265', 'V266', 'V267', 'V268', 'V269', 'V270', 'V271', 'V272', 'V273', 'V274', 'V275', 'V276', 'V277', 'V278', 'V279', 'V280', 'V282', 'V283', 'V285', 'V287', 'V288', 'V289', 'V291', 'V292', 'V294', 'V303', 'V304', 'V306', 'V307', 'V308', 'V310', 'V312', 'V313', 'V314', 'V315', 'V317', 'V322', 'V323', 'V324', 'V326', 'V327', 'V329', 'V331', 'V332', 'V333', 'V335', 'V336', 'V337', 'V338', 'V339', 'id_01', 'id_02', 'id_03', 'id_04', 'id_05', 'id_06', 'id_09', 'id_10', 'id_11', 'id_12', 'id_13', 'id_14', 'id_15', 'id_16', 'id_17', 'id_19', 'id_20', 'id_28', 'id_29', 'id_30', 'id_31', 'id_32', 'id_33', 'id_34', 'id_36', 'id_37', 'id_38', 'DeviceType', 'DeviceInfo']\n"
          ],
          "name": "stdout"
        }
      ]
    },
    {
      "cell_type": "code",
      "metadata": {
        "colab": {
          "base_uri": "https://localhost:8080/"
        },
        "id": "0ZiYB2SU-yAn",
        "outputId": "05745308-d74f-4604-b036-df66368a8511"
      },
      "source": [
        "rfe.grid_scores_"
      ],
      "execution_count": null,
      "outputs": [
        {
          "output_type": "execute_result",
          "data": {
            "text/plain": [
              "array([0.60726946, 0.83670295, 0.87437818, 0.88006101, 0.88640454,\n",
              "       0.89214487, 0.89317624, 0.89373871, 0.89297848, 0.89359619,\n",
              "       0.89470116, 0.89375448, 0.89417606, 0.89411205, 0.89427867,\n",
              "       0.89427411, 0.89449449, 0.8949534 , 0.89396192, 0.89408605,\n",
              "       0.89392704, 0.89469669, 0.89402453, 0.89408147, 0.89505155,\n",
              "       0.89479847, 0.89494307, 0.8943391 , 0.89368272, 0.89453377,\n",
              "       0.89447409, 0.89455044, 0.89567829, 0.89503128, 0.89454077,\n",
              "       0.89450327])"
            ]
          },
          "metadata": {
            "tags": []
          },
          "execution_count": 71
        }
      ]
    },
    {
      "cell_type": "code",
      "metadata": {
        "colab": {
          "base_uri": "https://localhost:8080/"
        },
        "id": "ZftdQRM4DpJ6",
        "outputId": "0641f5f4-d410-4521-a826-2ae3a4414e29"
      },
      "source": [
        "rfe.support_"
      ],
      "execution_count": null,
      "outputs": [
        {
          "output_type": "execute_result",
          "data": {
            "text/plain": [
              "array([ True,  True,  True,  True,  True,  True,  True,  True,  True,\n",
              "        True,  True,  True,  True,  True,  True,  True,  True,  True,\n",
              "        True,  True,  True,  True,  True,  True,  True,  True,  True,\n",
              "        True,  True,  True,  True,  True,  True,  True,  True,  True,\n",
              "        True,  True,  True,  True,  True,  True, False,  True,  True,\n",
              "        True,  True,  True,  True,  True,  True, False,  True,  True,\n",
              "        True,  True, False,  True, False,  True,  True,  True,  True,\n",
              "        True,  True,  True, False,  True,  True,  True,  True, False,\n",
              "        True,  True, False, False,  True,  True,  True,  True,  True,\n",
              "        True,  True,  True, False, False,  True,  True,  True,  True,\n",
              "        True,  True,  True, False,  True,  True,  True,  True,  True,\n",
              "        True,  True,  True,  True,  True,  True,  True,  True,  True,\n",
              "        True,  True,  True,  True,  True,  True,  True,  True,  True,\n",
              "        True,  True,  True,  True,  True,  True,  True,  True,  True,\n",
              "       False,  True,  True,  True,  True,  True,  True,  True,  True,\n",
              "        True,  True,  True,  True, False,  True,  True, False,  True,\n",
              "        True,  True,  True,  True,  True,  True,  True,  True,  True,\n",
              "        True, False,  True,  True,  True,  True,  True,  True,  True,\n",
              "        True,  True,  True,  True,  True,  True,  True,  True,  True,\n",
              "        True,  True,  True,  True,  True,  True,  True,  True,  True,\n",
              "        True,  True, False,  True,  True,  True,  True,  True,  True,\n",
              "        True,  True,  True, False,  True, False,  True, False, False,\n",
              "        True,  True,  True,  True,  True,  True,  True,  True,  True,\n",
              "        True,  True,  True,  True,  True,  True,  True,  True,  True,\n",
              "        True,  True,  True,  True,  True,  True,  True,  True,  True,\n",
              "        True,  True,  True,  True,  True,  True,  True,  True,  True,\n",
              "        True,  True,  True,  True, False,  True,  True, False, False,\n",
              "        True,  True,  True,  True,  True,  True,  True,  True,  True,\n",
              "        True, False,  True,  True,  True,  True,  True,  True,  True,\n",
              "        True,  True,  True,  True,  True,  True,  True,  True,  True,\n",
              "        True,  True,  True,  True,  True,  True,  True,  True,  True,\n",
              "        True,  True,  True,  True,  True,  True,  True,  True,  True,\n",
              "        True,  True,  True, False,  True,  True,  True,  True,  True,\n",
              "        True,  True,  True,  True,  True,  True,  True,  True,  True,\n",
              "       False,  True,  True, False,  True, False,  True,  True,  True,\n",
              "       False,  True,  True,  True,  True,  True,  True,  True,  True,\n",
              "        True,  True,  True,  True,  True,  True,  True,  True,  True,\n",
              "        True,  True,  True,  True,  True,  True,  True,  True,  True,\n",
              "        True,  True,  True, False,  True,  True,  True,  True,  True])"
            ]
          },
          "metadata": {
            "tags": []
          },
          "execution_count": 77
        }
      ]
    },
    {
      "cell_type": "code",
      "metadata": {
        "colab": {
          "base_uri": "https://localhost:8080/"
        },
        "id": "Y0oENjceBQau",
        "outputId": "0e64193a-3e8b-4239-beee-7c81a9739e5a"
      },
      "source": [
        "len(rfe.estimator_.feature_importances_)"
      ],
      "execution_count": null,
      "outputs": [
        {
          "output_type": "execute_result",
          "data": {
            "text/plain": [
              "321"
            ]
          },
          "metadata": {
            "tags": []
          },
          "execution_count": 53
        }
      ]
    },
    {
      "cell_type": "code",
      "metadata": {
        "colab": {
          "base_uri": "https://localhost:8080/",
          "height": 1000
        },
        "id": "H_yWenW4_Kyv",
        "outputId": "7298d419-75e3-43d9-e5b0-867433c7fe60"
      },
      "source": [
        "rfe_importance= pd.DataFrame()\n",
        "rfe_importance[\"Features\"] = X.columns[rfe.ranking_ == 1]\n",
        "rfe_importance[\"Score\"] = rfe.estimator_.feature_importances_\n",
        "fs_result1.sort_values(by = \"Score\", ascending=False).head(36)\n",
        "# rfe_importance.to_csv(\"rfe_importance.csv\")\n",
        "# !cp rfe_importance.csv \"drive/My Drive/ieee-fraud-detection/\""
      ],
      "execution_count": null,
      "outputs": [
        {
          "output_type": "execute_result",
          "data": {
            "text/html": [
              "<div>\n",
              "<style scoped>\n",
              "    .dataframe tbody tr th:only-of-type {\n",
              "        vertical-align: middle;\n",
              "    }\n",
              "\n",
              "    .dataframe tbody tr th {\n",
              "        vertical-align: top;\n",
              "    }\n",
              "\n",
              "    .dataframe thead th {\n",
              "        text-align: right;\n",
              "    }\n",
              "</style>\n",
              "<table border=\"1\" class=\"dataframe\">\n",
              "  <thead>\n",
              "    <tr style=\"text-align: right;\">\n",
              "      <th></th>\n",
              "      <th>Features</th>\n",
              "      <th>Score</th>\n",
              "    </tr>\n",
              "  </thead>\n",
              "  <tbody>\n",
              "    <tr>\n",
              "      <th>0</th>\n",
              "      <td>TransactionID</td>\n",
              "      <td>2011</td>\n",
              "    </tr>\n",
              "    <tr>\n",
              "      <th>2</th>\n",
              "      <td>TransactionAmt</td>\n",
              "      <td>1899</td>\n",
              "    </tr>\n",
              "    <tr>\n",
              "      <th>5</th>\n",
              "      <td>card2</td>\n",
              "      <td>1727</td>\n",
              "    </tr>\n",
              "    <tr>\n",
              "      <th>4</th>\n",
              "      <td>card1</td>\n",
              "      <td>1630</td>\n",
              "    </tr>\n",
              "    <tr>\n",
              "      <th>26</th>\n",
              "      <td>C13</td>\n",
              "      <td>1602</td>\n",
              "    </tr>\n",
              "    <tr>\n",
              "      <th>28</th>\n",
              "      <td>D1</td>\n",
              "      <td>1386</td>\n",
              "    </tr>\n",
              "    <tr>\n",
              "      <th>10</th>\n",
              "      <td>addr1</td>\n",
              "      <td>1130</td>\n",
              "    </tr>\n",
              "    <tr>\n",
              "      <th>8</th>\n",
              "      <td>card5</td>\n",
              "      <td>1097</td>\n",
              "    </tr>\n",
              "    <tr>\n",
              "      <th>29</th>\n",
              "      <td>D2</td>\n",
              "      <td>1042</td>\n",
              "    </tr>\n",
              "    <tr>\n",
              "      <th>1</th>\n",
              "      <td>TransactionDT</td>\n",
              "      <td>979</td>\n",
              "    </tr>\n",
              "    <tr>\n",
              "      <th>41</th>\n",
              "      <td>D15</td>\n",
              "      <td>940</td>\n",
              "    </tr>\n",
              "    <tr>\n",
              "      <th>15</th>\n",
              "      <td>C1</td>\n",
              "      <td>878</td>\n",
              "    </tr>\n",
              "    <tr>\n",
              "      <th>13</th>\n",
              "      <td>P_emaildomain</td>\n",
              "      <td>854</td>\n",
              "    </tr>\n",
              "    <tr>\n",
              "      <th>31</th>\n",
              "      <td>D4</td>\n",
              "      <td>847</td>\n",
              "    </tr>\n",
              "    <tr>\n",
              "      <th>24</th>\n",
              "      <td>C11</td>\n",
              "      <td>789</td>\n",
              "    </tr>\n",
              "    <tr>\n",
              "      <th>36</th>\n",
              "      <td>D10</td>\n",
              "      <td>720</td>\n",
              "    </tr>\n",
              "    <tr>\n",
              "      <th>272</th>\n",
              "      <td>V310</td>\n",
              "      <td>702</td>\n",
              "    </tr>\n",
              "    <tr>\n",
              "      <th>27</th>\n",
              "      <td>C14</td>\n",
              "      <td>696</td>\n",
              "    </tr>\n",
              "    <tr>\n",
              "      <th>16</th>\n",
              "      <td>C2</td>\n",
              "      <td>687</td>\n",
              "    </tr>\n",
              "    <tr>\n",
              "      <th>19</th>\n",
              "      <td>C6</td>\n",
              "      <td>621</td>\n",
              "    </tr>\n",
              "    <tr>\n",
              "      <th>12</th>\n",
              "      <td>dist1</td>\n",
              "      <td>608</td>\n",
              "    </tr>\n",
              "    <tr>\n",
              "      <th>274</th>\n",
              "      <td>V313</td>\n",
              "      <td>566</td>\n",
              "    </tr>\n",
              "    <tr>\n",
              "      <th>34</th>\n",
              "      <td>D8</td>\n",
              "      <td>559</td>\n",
              "    </tr>\n",
              "    <tr>\n",
              "      <th>270</th>\n",
              "      <td>V307</td>\n",
              "      <td>558</td>\n",
              "    </tr>\n",
              "    <tr>\n",
              "      <th>293</th>\n",
              "      <td>id_02</td>\n",
              "      <td>546</td>\n",
              "    </tr>\n",
              "    <tr>\n",
              "      <th>276</th>\n",
              "      <td>V315</td>\n",
              "      <td>514</td>\n",
              "    </tr>\n",
              "    <tr>\n",
              "      <th>14</th>\n",
              "      <td>R_emaildomain</td>\n",
              "      <td>505</td>\n",
              "    </tr>\n",
              "    <tr>\n",
              "      <th>125</th>\n",
              "      <td>V130</td>\n",
              "      <td>439</td>\n",
              "    </tr>\n",
              "    <tr>\n",
              "      <th>123</th>\n",
              "      <td>V127</td>\n",
              "      <td>435</td>\n",
              "    </tr>\n",
              "    <tr>\n",
              "      <th>22</th>\n",
              "      <td>C9</td>\n",
              "      <td>433</td>\n",
              "    </tr>\n",
              "    <tr>\n",
              "      <th>277</th>\n",
              "      <td>V317</td>\n",
              "      <td>433</td>\n",
              "    </tr>\n",
              "    <tr>\n",
              "      <th>273</th>\n",
              "      <td>V312</td>\n",
              "      <td>426</td>\n",
              "    </tr>\n",
              "    <tr>\n",
              "      <th>25</th>\n",
              "      <td>C12</td>\n",
              "      <td>403</td>\n",
              "    </tr>\n",
              "    <tr>\n",
              "      <th>44</th>\n",
              "      <td>M4</td>\n",
              "      <td>400</td>\n",
              "    </tr>\n",
              "    <tr>\n",
              "      <th>271</th>\n",
              "      <td>V308</td>\n",
              "      <td>377</td>\n",
              "    </tr>\n",
              "    <tr>\n",
              "      <th>45</th>\n",
              "      <td>M5</td>\n",
              "      <td>375</td>\n",
              "    </tr>\n",
              "  </tbody>\n",
              "</table>\n",
              "</div>"
            ],
            "text/plain": [
              "           Features  Score\n",
              "0     TransactionID   2011\n",
              "2    TransactionAmt   1899\n",
              "5             card2   1727\n",
              "4             card1   1630\n",
              "26              C13   1602\n",
              "28               D1   1386\n",
              "10            addr1   1130\n",
              "8             card5   1097\n",
              "29               D2   1042\n",
              "1     TransactionDT    979\n",
              "41              D15    940\n",
              "15               C1    878\n",
              "13    P_emaildomain    854\n",
              "31               D4    847\n",
              "24              C11    789\n",
              "36              D10    720\n",
              "272            V310    702\n",
              "27              C14    696\n",
              "16               C2    687\n",
              "19               C6    621\n",
              "12            dist1    608\n",
              "274            V313    566\n",
              "34               D8    559\n",
              "270            V307    558\n",
              "293           id_02    546\n",
              "276            V315    514\n",
              "14    R_emaildomain    505\n",
              "125            V130    439\n",
              "123            V127    435\n",
              "22               C9    433\n",
              "277            V317    433\n",
              "273            V312    426\n",
              "25              C12    403\n",
              "44               M4    400\n",
              "271            V308    377\n",
              "45               M5    375"
            ]
          },
          "metadata": {
            "tags": []
          },
          "execution_count": 69
        }
      ]
    },
    {
      "cell_type": "code",
      "metadata": {
        "colab": {
          "base_uri": "https://localhost:8080/"
        },
        "id": "iLtr1v8qDUaG",
        "outputId": "2f128f9d-1af8-48b1-b248-6b2ff645fd3b"
      },
      "source": [
        "temp = fs_result1.sort_values(by = \"Score\", ascending=False).head(36)\n",
        "rfe_fs = temp[\"Features\"].tolist()\n",
        "rfe_fs "
      ],
      "execution_count": null,
      "outputs": [
        {
          "output_type": "execute_result",
          "data": {
            "text/plain": [
              "['TransactionID',\n",
              " 'TransactionAmt',\n",
              " 'card2',\n",
              " 'card1',\n",
              " 'C13',\n",
              " 'D1',\n",
              " 'addr1',\n",
              " 'card5',\n",
              " 'D2',\n",
              " 'TransactionDT',\n",
              " 'D15',\n",
              " 'C1',\n",
              " 'P_emaildomain',\n",
              " 'D4',\n",
              " 'C11',\n",
              " 'D10',\n",
              " 'V310',\n",
              " 'C14',\n",
              " 'C2',\n",
              " 'C6',\n",
              " 'dist1',\n",
              " 'V313',\n",
              " 'D8',\n",
              " 'V307',\n",
              " 'id_02',\n",
              " 'V315',\n",
              " 'R_emaildomain',\n",
              " 'V130',\n",
              " 'V127',\n",
              " 'C9',\n",
              " 'V317',\n",
              " 'V312',\n",
              " 'C12',\n",
              " 'M4',\n",
              " 'V308',\n",
              " 'M5']"
            ]
          },
          "metadata": {
            "tags": []
          },
          "execution_count": 81
        }
      ]
    },
    {
      "cell_type": "code",
      "metadata": {
        "id": "H2apinjjjBCC"
      },
      "source": [
        "lgb_fs = ['V126', 'V308', 'V131', 'V315', 'C13', 'TransactionID', 'V76', 'C2', 'V317', 'V83', 'C14', 'V127', 'D10', 'V130', 'card1', 'D15', 'V306', 'C11', 'TransactionAmt', 'D1', 'C1', 'V314', 'V307', 'C9', 'C6', 'Hour', 'card5', 'V313', 'addr1', 'V310', 'card2', 'V312', 'C5', 'V320']"
      ],
      "execution_count": null,
      "outputs": []
    },
    {
      "cell_type": "code",
      "metadata": {
        "colab": {
          "base_uri": "https://localhost:8080/"
        },
        "id": "sne-EBePj65Q",
        "outputId": "90d01ee4-63c7-4e19-9fe7-ed62c38ebdd2"
      },
      "source": [
        "print(set(lgb_fs).intersection(set(rfe_fs))), len(set(lgb_fs).intersection(set(rfe_fs)))"
      ],
      "execution_count": null,
      "outputs": [
        {
          "output_type": "stream",
          "text": [
            "{'C1', 'card1', 'V315', 'D10', 'C6', 'V313', 'V127', 'C13', 'D15', 'C11', 'C14', 'V307', 'V310', 'V130', 'addr1', 'TransactionID', 'TransactionAmt', 'V308', 'C2', 'card2', 'V317', 'D1', 'C9', 'card5', 'V312'}\n"
          ],
          "name": "stdout"
        },
        {
          "output_type": "execute_result",
          "data": {
            "text/plain": [
              "(None, 25)"
            ]
          },
          "metadata": {
            "tags": []
          },
          "execution_count": 83
        }
      ]
    },
    {
      "cell_type": "code",
      "metadata": {
        "colab": {
          "base_uri": "https://localhost:8080/"
        },
        "id": "o6cHHvk4lrCV",
        "outputId": "395b995f-159d-4e29-eb2e-221ef6766696"
      },
      "source": [
        "print(set(lgb_fs).difference(set(rfe_fs))), "
      ],
      "execution_count": null,
      "outputs": [
        {
          "output_type": "stream",
          "text": [
            "{'V314', 'V126', 'V83', 'V320', 'V131', 'V76', 'Hour', 'V306', 'C5'}\n"
          ],
          "name": "stdout"
        },
        {
          "output_type": "execute_result",
          "data": {
            "text/plain": [
              "(None,)"
            ]
          },
          "metadata": {
            "tags": []
          },
          "execution_count": 84
        }
      ]
    },
    {
      "cell_type": "markdown",
      "metadata": {
        "id": "900L0Z9Hkep4"
      },
      "source": [
        "Because lgb_fs did little FE, the common feature should also \n",
        "includes: 'R_emaildomain','TransactionDT', 'V314', the final 30 FE list is:\n",
        "\n",
        "---\n",
        "\n",
        "\n",
        "['C1', 'card1', 'V315', 'D10', 'C6', 'V313', 'V127', 'C13', 'D15', 'C11', 'C14', 'V307', 'V310', 'V130', 'addr1', 'TransactionID', 'TransactionAmt', 'V308', 'C2', 'card2', 'V317', 'D1', 'C9', 'card5', 'V312', 'R_emaildomain','TransactionDT', 'V314']"
      ]
    }
  ]
}